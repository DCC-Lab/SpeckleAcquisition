{
 "cells": [
  {
   "cell_type": "code",
   "execution_count": 20,
   "metadata": {},
   "outputs": [
    {
     "name": "stdout",
     "output_type": "stream",
     "text": [
      "The image was successfully saved as Figure/TestInput.png\n"
     ]
    }
   ],
   "source": [
    "# This code is to save a single frame of video feed\n",
    "# for analysis\n",
    "\n",
    "import cv2\n",
    "\n",
    "\n",
    "# Sets up a VideoCapture object\n",
    "video_feed = cv2.VideoCapture(0)\n",
    "# Checks if the camera is accesible\n",
    "if not video_feed.isOpened():\n",
    "    raise IOError(\"Cannot connect to camera\")\n",
    "# Relative path of where the image will be saved and under what name/format\n",
    "filename = input(\"Under what name should the image be saved?  \")\n",
    "relative_path = f\"Figure/{filename}.png\"\n",
    "while(True):\n",
    "    if ret == True:\n",
    "        ret, frame = video_feed.read() # Assigns the current frame to \"frame\" variable\n",
    "        cv2.imshow(\"Frame\", frame) # Displays current frame\n",
    "        if cv2.waitKey(1) & 0xFF == ord(\"s\"): # Press \"s\" to save frame\n",
    "            cv2.imwrite(relative_path, frame) # Saves frame under the relative path\n",
    "            break\n",
    "        if cv2.waitKey(1) & 0xFF == ord(\"q\"): # Press \"q\" to stop video feed\n",
    "            break\n",
    "    else:\n",
    "        break\n",
    "video_feed.release()\n",
    "cv2.destroyAllWindows()\n",
    "print(f\"The image was successfully saved as {relative_path}\")\n"
   ]
  }
 ],
 "metadata": {
  "interpreter": {
   "hash": "1233737912be3dccf5bd6d26c5f42e951b2a2c1f702feeb5316a6b876889c876"
  },
  "kernelspec": {
   "display_name": "Python 3.9.12 64-bit (windows store)",
   "language": "python",
   "name": "python3"
  },
  "language_info": {
   "codemirror_mode": {
    "name": "ipython",
    "version": 3
   },
   "file_extension": ".py",
   "mimetype": "text/x-python",
   "name": "python",
   "nbconvert_exporter": "python",
   "pygments_lexer": "ipython3",
   "version": "3.9.12"
  },
  "orig_nbformat": 4
 },
 "nbformat": 4,
 "nbformat_minor": 2
}
