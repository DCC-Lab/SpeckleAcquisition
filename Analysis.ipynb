{
 "cells": [
  {
   "cell_type": "code",
   "execution_count": null,
   "metadata": {},
   "outputs": [],
   "source": [
    "from SpeckleClasses import SpeckleAnalysis, SpeckleAcquisition\n",
    "import tifffile as tiff\n",
    "import numpy as np\n",
    "import os\n",
    "from scipy import *\n",
    "import matplotlib.pyplot as plt"
   ]
  },
  {
   "cell_type": "markdown",
   "metadata": {},
   "source": [
    "The following code is used to fetch the data and find the median of the picture of noise intensity of the camera used for the acquisition of speckles."
   ]
  },
  {
   "cell_type": "code",
   "execution_count": null,
   "metadata": {},
   "outputs": [],
   "source": [
    "from SpeckleClasses import SpeckleAnalysis, SpeckleAcquisition\n",
    "import tifffile as tiff\n",
    "import numpy as np\n",
    "import os\n",
    "\n",
    "\n",
    "folderpath = r\"S:\\Goliath\\labdata\\jroussel\\Speckle\\20220527-Noise_Intensity\\\\\"\n",
    "allfiles=os.listdir(folderpath)\n",
    "imlist= [filename for filename in allfiles]\n",
    "MedianIC = {}\n",
    "for image in SpeckleAnalysis.sortedAlphanumeric(imlist):\n",
    "    MedianIC[image]=np.median(SpeckleAnalysis.getImage(rf\"S:\\Goliath\\labdata\\jroussel\\Speckle\\20220527-Noise_Intensity\\{image}\"))\n",
    "print(MedianIC)\n"
   ]
  },
  {
   "cell_type": "markdown",
   "metadata": {},
   "source": [
    "The following code is used to calculate the average intensity of each picture in a specific folder."
   ]
  },
  {
   "cell_type": "code",
   "execution_count": null,
   "metadata": {},
   "outputs": [],
   "source": [
    "from SpeckleClasses import SpeckleAnalysis, SpeckleAcquisition\n",
    "import tifffile as tiff\n",
    "import numpy as np\n",
    "import os\n",
    "\n",
    "\n",
    "folderpath = r\"S:\\Goliath\\labdata\\jroussel\\Speckle\\20220527-ExposureTimeVerification\\TestingICCaptureExposureTime\\\\\"\n",
    "allfiles=os.listdir(folderpath)\n",
    "imlist= [filename for filename in allfiles]\n",
    "MeanIC = {}\n",
    "for image in SpeckleAnalysis.sortedAlphanumeric(imlist):\n",
    "    MeanIC[image]=np.mean(SpeckleAnalysis.getImage(rf\"S:\\Goliath\\labdata\\jroussel\\Speckle\\20220527-ExposureTimeVerification\\TestingICCaptureExposureTime\\{image}\"))\n",
    "\n",
    "folderpath = r\"S:\\Goliath\\labdata\\jroussel\\Speckle\\20220527-ExposureTimeVerification\\TestingOpenCVExposureTime\\\\\"\n",
    "allfiles=os.listdir(folderpath)\n",
    "imlist= [filename for filename in allfiles]\n",
    "MeanOpenCV = {}\n",
    "for image in SpeckleAnalysis.sortedAlphanumeric(imlist):\n",
    "    MeanOpenCV[image]=np.mean(SpeckleAnalysis.getImage(rf\"S:\\Goliath\\labdata\\jroussel\\Speckle\\20220527-ExposureTimeVerification\\TestingOpenCVExposureTime\\{image}\"))\n",
    "    \n",
    "\n",
    "print(f\"Results of ICCapture: {MeanIC}\\n\\n\\nResults of OpenCV: {MeanOpenCV}\")"
   ]
  },
  {
   "cell_type": "markdown",
   "metadata": {},
   "source": [
    "The following code is to examine the difference on the intensity distribution caused by the polarisaion of the captured speckles."
   ]
  },
  {
   "cell_type": "code",
   "execution_count": null,
   "metadata": {},
   "outputs": [],
   "source": [
    "from SpeckleClasses import SpeckleAnalysis\n",
    "\n",
    "\n",
    "folderpath = r\"S:\\Goliath\\labdata\\jroussel\\Speckle\\20220531-PolarisationReflectedLight\\\\\"\n",
    "allfiles=os.listdir(folderpath)\n",
    "imlist= [filename for filename in allfiles]\n",
    "angle = 0\n",
    "for image in SpeckleAnalysis.sortedAlphanumeric(imlist):\n",
    "    a = SpeckleAnalysis.getImage(rf\"S:\\Goliath\\labdata\\jroussel\\Speckle\\20220531-PolarisationReflectedLight\\{image}\")\n",
    "    fig = plt.figure()\n",
    "    fig.patch.set_facecolor(\"white\")\n",
    "    plt.hist(a.flatten(), bins=256, color = \"black\") # Creates histogram of pixel intensity\n",
    "    plt.xlabel(\"Intensity\")\n",
    "    plt.ylabel(\"Count\")\n",
    "    average = np.mean(a)\n",
    "    median = np.median(a)\n",
    "    plt.hist(average, label = f\"Mean = {average}\")\n",
    "    plt.hist(average, label = f\"Mean = {median}\")\n",
    "    plt.hist(average, label = f\"Angle = {angle}\")\n",
    "    plt.legend()\n",
    "    plt.savefig(rf\"C:\\Users\\jo26\\OneDrive\\Stage\\Code python\\Code\\SpeckleAcquisition\\Histogrammes\\PolarisationReflectedLight\\Pol-{angle}degHisto.png\") # Saves the histogram\n",
    "    # plt.show() # Shows the histogram\n",
    "    angle += 10\n",
    "\n"
   ]
  },
  {
   "cell_type": "markdown",
   "metadata": {},
   "source": [
    "The following code is used to create a reference for the normalisation of future data."
   ]
  },
  {
   "cell_type": "code",
   "execution_count": null,
   "metadata": {},
   "outputs": [],
   "source": [
    "from SpeckleClasses import SpeckleAnalysis, SpeckleAcquisition\n",
    "import tifffile as tiff\n",
    "import numpy as np\n",
    "import os\n",
    "\n",
    "\n",
    "folderpath = r\"S:\\Goliath\\labdata\\jroussel\\Speckle\\20220601-NormalisationReference\\\\\"\n",
    "allfiles=os.listdir(folderpath)\n",
    "imlist= [np.float32(tiff.imread(rf\"S:\\Goliath\\labdata\\jroussel\\Speckle\\20220601-NormalisationReference\\{filename}\")) for filename in allfiles]\n",
    "ref = np.sum(imlist,axis=0)\n",
    "tiff.imwrite(rf\"S:\\Goliath\\labdata\\jroussel\\Speckle\\20220601-NormalisationReference\\\\SumImage.tiff\", ref, dtype=np.float32)\n",
    "tiff.imshow(ref)\n"
   ]
  },
  {
   "cell_type": "markdown",
   "metadata": {},
   "source": [
    "The following code is used to normalise the speckle pattern."
   ]
  },
  {
   "cell_type": "code",
   "execution_count": null,
   "metadata": {},
   "outputs": [],
   "source": [
    "from SpeckleClasses import SpeckleAnalysis, SpeckleAcquisition\n",
    "import tifffile as tiff\n",
    "import numpy as np\n",
    "import os\n",
    "import matplotlib.pyplot as plt\n",
    "import cv2 \n",
    "\n",
    "# Rescale the reference image in range of [0,1]\n",
    "sumPath = \"S:\\Goliath\\labdata\\jroussel\\Speckle\\\\20220601-NormalisationReference\\SumImage.tiff\"\n",
    "sumImage = np.float32(tiff.imread(sumPath))\n",
    "Reference = sumImage/np.max(sumImage)\n",
    "# tiff.imwrite(r\"C:\\Users\\jo26\\OneDrive\\Stage\\Code python\\Code\\SpeckleAcquisition\\FigureTest\\NormalizationReference.tiff\", Reference)\n",
    "tiff.imshow(Reference)\n",
    "\n",
    "# Normalise speckle pattern \n",
    "specklePath = \"C:\\\\Users\\\\jo26\\\\Downloads\\\\SpeckleTest (2).tiff\"\n",
    "speckleImage = np.float32(tiff.imread(specklePath))\n",
    "Normalized = speckleImage/Reference\n",
    "tiff.imshow(speckleImage)\n",
    "# tiff.imwrite(r\"C:\\Users\\jo26\\OneDrive\\Stage\\Code python\\Code\\SpeckleAcquisition\\FigureTest\\NormalizedSpecklePattern.tiff\", Normalized)\n",
    "tiff.imshow(Normalized)\n",
    "\n",
    "\n",
    "\n"
   ]
  },
  {
   "cell_type": "code",
   "execution_count": null,
   "metadata": {},
   "outputs": [],
   "source": [
    "from SpeckleClasses import SpeckleAnalysis, SpeckleAcquisition\n",
    "import tifffile as tiff\n",
    "import numpy as np\n",
    "import os\n",
    "import matplotlib.pyplot as plt\n",
    "import cv2 \n",
    "\n",
    "plt.hist(speckleImage.flatten(), bins=256, range = (0,255), label=\"speckles raw\")\n",
    "plt.legend()\n",
    "plt.show()\n",
    "plt.hist(Normalized.flatten(), bins=256, range = (0,255),label=\"Normalized\")\n",
    "plt.legend()\n",
    "plt.show()\n",
    "norm = (speckleImage - np.min(speckleImage)) / (np.max(speckleImage) - np.min(speckleImage))\n",
    "# tiff.imwrite(r\"C:\\Users\\jo26\\OneDrive\\Stage\\Code python\\Code\\SpeckleAcquisition\\FigureTest\\NormalizedSpecklePatternMINMAX.tiff\", norm)\n",
    "plt.hist(norm.flatten(), bins=256,label=\"Normalized MinMax\")\n",
    "plt.legend()\n",
    "plt.show()\n"
   ]
  },
  {
   "cell_type": "code",
   "execution_count": null,
   "metadata": {},
   "outputs": [],
   "source": []
  }
 ],
 "metadata": {
  "interpreter": {
   "hash": "1233737912be3dccf5bd6d26c5f42e951b2a2c1f702feeb5316a6b876889c876"
  },
  "kernelspec": {
   "display_name": "Python 3.9.13 64-bit (windows store)",
   "language": "python",
   "name": "python3"
  },
  "language_info": {
   "codemirror_mode": {
    "name": "ipython",
    "version": 3
   },
   "file_extension": ".py",
   "mimetype": "text/x-python",
   "name": "python",
   "nbconvert_exporter": "python",
   "pygments_lexer": "ipython3",
   "version": "3.9.13"
  },
  "orig_nbformat": 4
 },
 "nbformat": 4,
 "nbformat_minor": 2
}
